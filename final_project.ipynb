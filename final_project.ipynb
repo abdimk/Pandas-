{
  "cells": [
    {
      "cell_type": "markdown",
      "metadata": {
        "id": "7HPEm-ewCQW-"
      },
      "source": [
        "### **Loading the data**"
      ]
    },
    {
      "cell_type": "code",
      "execution_count": 1,
      "metadata": {
        "id": "sXmcEdISCKDg",
        "metadata": {}
      },
      "outputs": [],
      "source": [
        "import pandas as pd\n",
        "\n",
        "df = pd.read_csv('DataSet/walmart_weekly_sales.csv')\n"
      ]
    },
    {
      "cell_type": "markdown",
      "metadata": {
        "id": "z2xjkQpOCmF2"
      },
      "source": [
        "### **Basic Data Inspection**"
      ]
    },
    {
      "cell_type": "code",
      "execution_count": 2,
      "metadata": {
        "colab": {
          "base_uri": "https://localhost:8080/",
          "height": 296
        },
        "id": "Nl6jzU5XCcgl",
        "metadata": {},
        "outputId": "3ba9b133-9668-4879-9bfa-8444b36f2e4a"
      },
      "outputs": [
        {
          "data": {
            "text/html": [
              "<div>\n",
              "<style scoped>\n",
              "    .dataframe tbody tr th:only-of-type {\n",
              "        vertical-align: middle;\n",
              "    }\n",
              "\n",
              "    .dataframe tbody tr th {\n",
              "        vertical-align: top;\n",
              "    }\n",
              "\n",
              "    .dataframe thead th {\n",
              "        text-align: right;\n",
              "    }\n",
              "</style>\n",
              "<table border=\"1\" class=\"dataframe\">\n",
              "  <thead>\n",
              "    <tr style=\"text-align: right;\">\n",
              "      <th></th>\n",
              "      <th>Store</th>\n",
              "      <th>Date</th>\n",
              "      <th>Weekly_Sales</th>\n",
              "      <th>Holiday_Flag</th>\n",
              "      <th>Temperature</th>\n",
              "      <th>Fuel_Price</th>\n",
              "      <th>CPI</th>\n",
              "      <th>Unemployment</th>\n",
              "      <th>Unnamed: 8</th>\n",
              "      <th>Unnamed: 9</th>\n",
              "      <th>Unnamed: 10</th>\n",
              "      <th>Unnamed: 11</th>\n",
              "      <th>Unnamed: 12</th>\n",
              "      <th>Unnamed: 13</th>\n",
              "    </tr>\n",
              "  </thead>\n",
              "  <tbody>\n",
              "    <tr>\n",
              "      <th>0</th>\n",
              "      <td>1</td>\n",
              "      <td>2/5/2010</td>\n",
              "      <td>1643690.90</td>\n",
              "      <td>0</td>\n",
              "      <td>42.31</td>\n",
              "      <td>2.572</td>\n",
              "      <td>211.096358</td>\n",
              "      <td>8.106</td>\n",
              "      <td>NaN</td>\n",
              "      <td>NaN</td>\n",
              "      <td>NaN</td>\n",
              "      <td>NaN</td>\n",
              "      <td>NaN</td>\n",
              "      <td>NaN</td>\n",
              "    </tr>\n",
              "    <tr>\n",
              "      <th>1</th>\n",
              "      <td>1</td>\n",
              "      <td>2/12/2010</td>\n",
              "      <td>1641957.44</td>\n",
              "      <td>1</td>\n",
              "      <td>38.51</td>\n",
              "      <td>2.548</td>\n",
              "      <td>211.242170</td>\n",
              "      <td>8.106</td>\n",
              "      <td>NaN</td>\n",
              "      <td>NaN</td>\n",
              "      <td>NaN</td>\n",
              "      <td>NaN</td>\n",
              "      <td>NaN</td>\n",
              "      <td>State</td>\n",
              "    </tr>\n",
              "    <tr>\n",
              "      <th>2</th>\n",
              "      <td>1</td>\n",
              "      <td>2/19/2010</td>\n",
              "      <td>1611968.17</td>\n",
              "      <td>0</td>\n",
              "      <td>39.93</td>\n",
              "      <td>2.514</td>\n",
              "      <td>211.289143</td>\n",
              "      <td>8.106</td>\n",
              "      <td>NaN</td>\n",
              "      <td>NaN</td>\n",
              "      <td>NaN</td>\n",
              "      <td>NaN</td>\n",
              "      <td>NaN</td>\n",
              "      <td>1             Account length</td>\n",
              "    </tr>\n",
              "    <tr>\n",
              "      <th>3</th>\n",
              "      <td>1</td>\n",
              "      <td>2/26/2010</td>\n",
              "      <td>1409727.59</td>\n",
              "      <td>0</td>\n",
              "      <td>46.63</td>\n",
              "      <td>2.561</td>\n",
              "      <td>211.319643</td>\n",
              "      <td>8.106</td>\n",
              "      <td>NaN</td>\n",
              "      <td>NaN</td>\n",
              "      <td>NaN</td>\n",
              "      <td>NaN</td>\n",
              "      <td>NaN</td>\n",
              "      <td>2                  Area code</td>\n",
              "    </tr>\n",
              "    <tr>\n",
              "      <th>4</th>\n",
              "      <td>1</td>\n",
              "      <td>3/5/2010</td>\n",
              "      <td>1554806.68</td>\n",
              "      <td>0</td>\n",
              "      <td>46.50</td>\n",
              "      <td>2.625</td>\n",
              "      <td>211.350143</td>\n",
              "      <td>8.106</td>\n",
              "      <td>NaN</td>\n",
              "      <td>NaN</td>\n",
              "      <td>NaN</td>\n",
              "      <td>NaN</td>\n",
              "      <td>NaN</td>\n",
              "      <td>3         International plan</td>\n",
              "    </tr>\n",
              "  </tbody>\n",
              "</table>\n",
              "</div>"
            ],
            "text/plain": [
              "   Store       Date  Weekly_Sales  Holiday_Flag  Temperature  Fuel_Price  \\\n",
              "0      1   2/5/2010    1643690.90             0        42.31       2.572   \n",
              "1      1  2/12/2010    1641957.44             1        38.51       2.548   \n",
              "2      1  2/19/2010    1611968.17             0        39.93       2.514   \n",
              "3      1  2/26/2010    1409727.59             0        46.63       2.561   \n",
              "4      1   3/5/2010    1554806.68             0        46.50       2.625   \n",
              "\n",
              "          CPI  Unemployment  Unnamed: 8  Unnamed: 9 Unnamed: 10  Unnamed: 11  \\\n",
              "0  211.096358         8.106         NaN         NaN         NaN          NaN   \n",
              "1  211.242170         8.106         NaN         NaN         NaN          NaN   \n",
              "2  211.289143         8.106         NaN         NaN         NaN          NaN   \n",
              "3  211.319643         8.106         NaN         NaN         NaN          NaN   \n",
              "4  211.350143         8.106         NaN         NaN         NaN          NaN   \n",
              "\n",
              "   Unnamed: 12                   Unnamed: 13  \n",
              "0          NaN                           NaN  \n",
              "1          NaN                         State  \n",
              "2          NaN  1             Account length  \n",
              "3          NaN  2                  Area code  \n",
              "4          NaN  3         International plan  "
            ]
          },
          "execution_count": 2,
          "metadata": {},
          "output_type": "execute_result"
        }
      ],
      "source": [
        "#rows and columns\n",
        "#df.shape\n",
        "\n",
        "#data types\n",
        "#df.dtypes\n",
        "\n",
        "# to see the column names\n",
        "#df.columns.values\n",
        "\n",
        "df.head(5)"
      ]
    },
    {
      "cell_type": "markdown",
      "metadata": {
        "id": "qocvKef_DkEI"
      },
      "source": [
        "### **Data Cleaning**\n",
        "\n",
        "To clean the data we started by dropping all the unnammed columns"
      ]
    },
    {
      "cell_type": "code",
      "execution_count": 3,
      "metadata": {
        "colab": {
          "base_uri": "https://localhost:8080/",
          "height": 206
        },
        "id": "jTgC5P4ICzVM",
        "metadata": {},
        "outputId": "63b5d428-7374-4120-f755-bc7fba1211cf"
      },
      "outputs": [
        {
          "data": {
            "text/html": [
              "<div>\n",
              "<style scoped>\n",
              "    .dataframe tbody tr th:only-of-type {\n",
              "        vertical-align: middle;\n",
              "    }\n",
              "\n",
              "    .dataframe tbody tr th {\n",
              "        vertical-align: top;\n",
              "    }\n",
              "\n",
              "    .dataframe thead th {\n",
              "        text-align: right;\n",
              "    }\n",
              "</style>\n",
              "<table border=\"1\" class=\"dataframe\">\n",
              "  <thead>\n",
              "    <tr style=\"text-align: right;\">\n",
              "      <th></th>\n",
              "      <th>Store</th>\n",
              "      <th>Date</th>\n",
              "      <th>Weekly_Sales</th>\n",
              "      <th>Holiday_Flag</th>\n",
              "      <th>Temperature</th>\n",
              "      <th>Fuel_Price</th>\n",
              "      <th>CPI</th>\n",
              "      <th>Unemployment</th>\n",
              "    </tr>\n",
              "  </thead>\n",
              "  <tbody>\n",
              "    <tr>\n",
              "      <th>0</th>\n",
              "      <td>1</td>\n",
              "      <td>2/5/2010</td>\n",
              "      <td>1643690.90</td>\n",
              "      <td>0</td>\n",
              "      <td>42.31</td>\n",
              "      <td>2.572</td>\n",
              "      <td>211.096358</td>\n",
              "      <td>8.106</td>\n",
              "    </tr>\n",
              "    <tr>\n",
              "      <th>1</th>\n",
              "      <td>1</td>\n",
              "      <td>2/12/2010</td>\n",
              "      <td>1641957.44</td>\n",
              "      <td>1</td>\n",
              "      <td>38.51</td>\n",
              "      <td>2.548</td>\n",
              "      <td>211.242170</td>\n",
              "      <td>8.106</td>\n",
              "    </tr>\n",
              "    <tr>\n",
              "      <th>2</th>\n",
              "      <td>1</td>\n",
              "      <td>2/19/2010</td>\n",
              "      <td>1611968.17</td>\n",
              "      <td>0</td>\n",
              "      <td>39.93</td>\n",
              "      <td>2.514</td>\n",
              "      <td>211.289143</td>\n",
              "      <td>8.106</td>\n",
              "    </tr>\n",
              "    <tr>\n",
              "      <th>3</th>\n",
              "      <td>1</td>\n",
              "      <td>2/26/2010</td>\n",
              "      <td>1409727.59</td>\n",
              "      <td>0</td>\n",
              "      <td>46.63</td>\n",
              "      <td>2.561</td>\n",
              "      <td>211.319643</td>\n",
              "      <td>8.106</td>\n",
              "    </tr>\n",
              "    <tr>\n",
              "      <th>4</th>\n",
              "      <td>1</td>\n",
              "      <td>3/5/2010</td>\n",
              "      <td>1554806.68</td>\n",
              "      <td>0</td>\n",
              "      <td>46.50</td>\n",
              "      <td>2.625</td>\n",
              "      <td>211.350143</td>\n",
              "      <td>8.106</td>\n",
              "    </tr>\n",
              "  </tbody>\n",
              "</table>\n",
              "</div>"
            ],
            "text/plain": [
              "   Store       Date  Weekly_Sales  Holiday_Flag  Temperature  Fuel_Price  \\\n",
              "0      1   2/5/2010    1643690.90             0        42.31       2.572   \n",
              "1      1  2/12/2010    1641957.44             1        38.51       2.548   \n",
              "2      1  2/19/2010    1611968.17             0        39.93       2.514   \n",
              "3      1  2/26/2010    1409727.59             0        46.63       2.561   \n",
              "4      1   3/5/2010    1554806.68             0        46.50       2.625   \n",
              "\n",
              "          CPI  Unemployment  \n",
              "0  211.096358         8.106  \n",
              "1  211.242170         8.106  \n",
              "2  211.289143         8.106  \n",
              "3  211.319643         8.106  \n",
              "4  211.350143         8.106  "
            ]
          },
          "execution_count": 3,
          "metadata": {},
          "output_type": "execute_result"
        }
      ],
      "source": [
        "#df.drop(columns=[''])\n",
        "\n",
        "df = df.iloc[:,~df.columns.str.contains('^Unnamed')]\n",
        "\n",
        "df.head(5)"
      ]
    },
    {
      "cell_type": "code",
      "execution_count": 4,
      "metadata": {
        "colab": {
          "base_uri": "https://localhost:8080/"
        },
        "id": "1Qsop0AJEdsg",
        "metadata": {},
        "outputId": "88f7387f-f6ad-4fc3-fd11-359404769bb2"
      },
      "outputs": [
        {
          "data": {
            "text/plain": [
              "Store           0\n",
              "Date            0\n",
              "Weekly_Sales    0\n",
              "Holiday_Flag    0\n",
              "Temperature     0\n",
              "Fuel_Price      0\n",
              "CPI             0\n",
              "Unemployment    0\n",
              "dtype: int64"
            ]
          },
          "execution_count": 4,
          "metadata": {},
          "output_type": "execute_result"
        }
      ],
      "source": [
        "#check if there are any missing datas\n",
        "\n",
        "df.isnull().sum()"
      ]
    },
    {
      "cell_type": "markdown",
      "metadata": {
        "id": "fTpOcMKBIiLJ"
      },
      "source": [
        "**1**. **Higest Sell Per week(Store number)**"
      ]
    },
    {
      "cell_type": "code",
      "execution_count": 10,
      "metadata": {
        "colab": {
          "base_uri": "https://localhost:8080/"
        },
        "id": "Brm7SXtlExq2",
        "metadata": {},
        "outputId": "73bc0b2e-d18d-4c79-b8dc-dfcd9225065b"
      },
      "outputs": [
        {
          "name": "stdout",
          "output_type": "stream",
          "text": [
            "Store with maximum sales is = 14\n"
          ]
        }
      ],
      "source": [
        "max_sales = df.loc[df['Weekly_Sales'].idxmax()]\n",
        "\n",
        "store_with_maximum_sales = max_sales['Store']\n",
        "\n",
        "\n",
        "\n",
        "print(f'Store with maximum sales is = {store_with_maximum_sales}')"
      ]
    },
    {
      "cell_type": "code",
      "execution_count": 11,
      "metadata": {
        "colab": {
          "base_uri": "https://localhost:8080/"
        },
        "id": "KfjUhTlXF3aA",
        "metadata": {},
        "outputId": "4745d975-fdab-49e7-81ff-89be41230258"
      },
      "outputs": [
        {
          "name": "stdout",
          "output_type": "stream",
          "text": [
            "was_holiday = False\n"
          ]
        }
      ],
      "source": [
        "# Check if it was a holiday week\n",
        "\n",
        "was_holiday = max_sales['Holiday_Flag'] == 1\n",
        "\n",
        "#was_holiday\n",
        "\n",
        "print(f'was_holiday = {was_holiday}')"
      ]
    },
    {
      "cell_type": "code",
      "execution_count": 12,
      "metadata": {
        "colab": {
          "base_uri": "https://localhost:8080/",
          "height": 35
        },
        "id": "S5SpzB60Guwm",
        "metadata": {},
        "outputId": "d0375127-f74d-40c8-dc85-b776fb7ded61"
      },
      "outputs": [
        {
          "data": {
            "text/plain": [
              "'December'"
            ]
          },
          "execution_count": 12,
          "metadata": {},
          "output_type": "execute_result"
        }
      ],
      "source": [
        "# which month was this week ?\n",
        "date_of_max_sales = pd.to_datetime(max_sales['Date'])\n",
        "month_of_max_sales = date_of_max_sales.strftime('%B')\n",
        "\n",
        "month_of_max_sales"
      ]
    },
    {
      "cell_type": "code",
      "execution_count": 13,
      "metadata": {
        "colab": {
          "base_uri": "https://localhost:8080/"
        },
        "id": "ehSedQttH_Kp",
        "metadata": {},
        "outputId": "b1ef91cb-ae0c-4f5d-de41-1a38da9a2a88"
      },
      "outputs": [
        {
          "name": "stdout",
          "output_type": "stream",
          "text": [
            "The sales amount for that week was $3818686.45\n"
          ]
        }
      ],
      "source": [
        "# Get the sales amount for that week\n",
        "sales_amount = max_sales['Weekly_Sales']\n",
        "print(f\"The sales amount for that week was ${sales_amount}\")"
      ]
    },
    {
      "cell_type": "markdown",
      "metadata": {
        "id": "Kz1X077LRHx_"
      },
      "source": [
        "**2**.**If weekly sales increase by 7%, what would their new sales be?**\n",
        "(engineer a new column with an appropriate name)"
      ]
    },
    {
      "cell_type": "code",
      "execution_count": 17,
      "metadata": {
        "colab": {
          "base_uri": "https://localhost:8080/",
          "height": 226
        },
        "id": "6fL1JrSfJHOo",
        "metadata": {},
        "outputId": "a3c85a2c-f711-4b63-c095-1e27baea6384"
      },
      "outputs": [
        {
          "data": {
            "text/html": [
              "<div>\n",
              "<style scoped>\n",
              "    .dataframe tbody tr th:only-of-type {\n",
              "        vertical-align: middle;\n",
              "    }\n",
              "\n",
              "    .dataframe tbody tr th {\n",
              "        vertical-align: top;\n",
              "    }\n",
              "\n",
              "    .dataframe thead th {\n",
              "        text-align: right;\n",
              "    }\n",
              "</style>\n",
              "<table border=\"1\" class=\"dataframe\">\n",
              "  <thead>\n",
              "    <tr style=\"text-align: right;\">\n",
              "      <th></th>\n",
              "      <th>Store</th>\n",
              "      <th>Date</th>\n",
              "      <th>Weekly_Sales</th>\n",
              "      <th>Holiday_Flag</th>\n",
              "      <th>Temperature</th>\n",
              "      <th>Fuel_Price</th>\n",
              "      <th>CPI</th>\n",
              "      <th>Unemployment</th>\n",
              "      <th>Weekly_Sales_Increased</th>\n",
              "    </tr>\n",
              "  </thead>\n",
              "  <tbody>\n",
              "    <tr>\n",
              "      <th>0</th>\n",
              "      <td>1</td>\n",
              "      <td>2/5/2010</td>\n",
              "      <td>1643690.90</td>\n",
              "      <td>0</td>\n",
              "      <td>42.31</td>\n",
              "      <td>2.572</td>\n",
              "      <td>211.096358</td>\n",
              "      <td>8.106</td>\n",
              "      <td>1.758749e+06</td>\n",
              "    </tr>\n",
              "    <tr>\n",
              "      <th>1</th>\n",
              "      <td>1</td>\n",
              "      <td>2/12/2010</td>\n",
              "      <td>1641957.44</td>\n",
              "      <td>1</td>\n",
              "      <td>38.51</td>\n",
              "      <td>2.548</td>\n",
              "      <td>211.242170</td>\n",
              "      <td>8.106</td>\n",
              "      <td>1.756894e+06</td>\n",
              "    </tr>\n",
              "    <tr>\n",
              "      <th>2</th>\n",
              "      <td>1</td>\n",
              "      <td>2/19/2010</td>\n",
              "      <td>1611968.17</td>\n",
              "      <td>0</td>\n",
              "      <td>39.93</td>\n",
              "      <td>2.514</td>\n",
              "      <td>211.289143</td>\n",
              "      <td>8.106</td>\n",
              "      <td>1.724806e+06</td>\n",
              "    </tr>\n",
              "    <tr>\n",
              "      <th>3</th>\n",
              "      <td>1</td>\n",
              "      <td>2/26/2010</td>\n",
              "      <td>1409727.59</td>\n",
              "      <td>0</td>\n",
              "      <td>46.63</td>\n",
              "      <td>2.561</td>\n",
              "      <td>211.319643</td>\n",
              "      <td>8.106</td>\n",
              "      <td>1.508409e+06</td>\n",
              "    </tr>\n",
              "    <tr>\n",
              "      <th>4</th>\n",
              "      <td>1</td>\n",
              "      <td>3/5/2010</td>\n",
              "      <td>1554806.68</td>\n",
              "      <td>0</td>\n",
              "      <td>46.50</td>\n",
              "      <td>2.625</td>\n",
              "      <td>211.350143</td>\n",
              "      <td>8.106</td>\n",
              "      <td>1.663643e+06</td>\n",
              "    </tr>\n",
              "  </tbody>\n",
              "</table>\n",
              "</div>"
            ],
            "text/plain": [
              "   Store       Date  Weekly_Sales  Holiday_Flag  Temperature  Fuel_Price  \\\n",
              "0      1   2/5/2010    1643690.90             0        42.31       2.572   \n",
              "1      1  2/12/2010    1641957.44             1        38.51       2.548   \n",
              "2      1  2/19/2010    1611968.17             0        39.93       2.514   \n",
              "3      1  2/26/2010    1409727.59             0        46.63       2.561   \n",
              "4      1   3/5/2010    1554806.68             0        46.50       2.625   \n",
              "\n",
              "          CPI  Unemployment  Weekly_Sales_Increased  \n",
              "0  211.096358         8.106            1.758749e+06  \n",
              "1  211.242170         8.106            1.756894e+06  \n",
              "2  211.289143         8.106            1.724806e+06  \n",
              "3  211.319643         8.106            1.508409e+06  \n",
              "4  211.350143         8.106            1.663643e+06  "
            ]
          },
          "execution_count": 17,
          "metadata": {},
          "output_type": "execute_result"
        }
      ],
      "source": [
        "df['Weekly_Sales_Increased'] = df['Weekly_Sales'] * 1.07\n",
        "\n",
        "\n",
        "# df['weekly_sales_increased] = df['weekly_sales] * df['weekly_sales] * 0.07\n",
        "# Display the updated DataFrame\n",
        "df.head()"
      ]
    },
    {
      "cell_type": "markdown",
      "metadata": {
        "id": "RBcYxwjTSptO"
      },
      "source": [
        "**3**"
      ]
    },
    {
      "cell_type": "code",
      "execution_count": 18,
      "metadata": {
        "colab": {
          "base_uri": "https://localhost:8080/",
          "height": 226
        },
        "id": "gjAuw4OMR3ea",
        "metadata": {},
        "outputId": "94a707cb-5dce-4ee8-da56-30853c72548c"
      },
      "outputs": [
        {
          "data": {
            "text/html": [
              "<div>\n",
              "<style scoped>\n",
              "    .dataframe tbody tr th:only-of-type {\n",
              "        vertical-align: middle;\n",
              "    }\n",
              "\n",
              "    .dataframe tbody tr th {\n",
              "        vertical-align: top;\n",
              "    }\n",
              "\n",
              "    .dataframe thead th {\n",
              "        text-align: right;\n",
              "    }\n",
              "</style>\n",
              "<table border=\"1\" class=\"dataframe\">\n",
              "  <thead>\n",
              "    <tr style=\"text-align: right;\">\n",
              "      <th></th>\n",
              "      <th>Store</th>\n",
              "      <th>Date</th>\n",
              "      <th>Weekly_Sales</th>\n",
              "      <th>Holiday_Flag</th>\n",
              "      <th>Temperature</th>\n",
              "      <th>Fuel_Price</th>\n",
              "      <th>CPI</th>\n",
              "      <th>Unemployment</th>\n",
              "      <th>Weekly_Sales_Increased</th>\n",
              "      <th>Labour_Cost</th>\n",
              "      <th>Product_Cost</th>\n",
              "      <th>Maintenance_Cost</th>\n",
              "      <th>Profit</th>\n",
              "    </tr>\n",
              "  </thead>\n",
              "  <tbody>\n",
              "    <tr>\n",
              "      <th>0</th>\n",
              "      <td>1</td>\n",
              "      <td>2/5/2010</td>\n",
              "      <td>1643690.90</td>\n",
              "      <td>0</td>\n",
              "      <td>42.31</td>\n",
              "      <td>2.572</td>\n",
              "      <td>211.096358</td>\n",
              "      <td>8.106</td>\n",
              "      <td>1.758749e+06</td>\n",
              "      <td>470095.59740</td>\n",
              "      <td>641039.4510</td>\n",
              "      <td>203817.67160</td>\n",
              "      <td>328738.180</td>\n",
              "    </tr>\n",
              "    <tr>\n",
              "      <th>1</th>\n",
              "      <td>1</td>\n",
              "      <td>2/12/2010</td>\n",
              "      <td>1641957.44</td>\n",
              "      <td>1</td>\n",
              "      <td>38.51</td>\n",
              "      <td>2.548</td>\n",
              "      <td>211.242170</td>\n",
              "      <td>8.106</td>\n",
              "      <td>1.756894e+06</td>\n",
              "      <td>469599.82784</td>\n",
              "      <td>640363.4016</td>\n",
              "      <td>203602.72256</td>\n",
              "      <td>328391.488</td>\n",
              "    </tr>\n",
              "    <tr>\n",
              "      <th>2</th>\n",
              "      <td>1</td>\n",
              "      <td>2/19/2010</td>\n",
              "      <td>1611968.17</td>\n",
              "      <td>0</td>\n",
              "      <td>39.93</td>\n",
              "      <td>2.514</td>\n",
              "      <td>211.289143</td>\n",
              "      <td>8.106</td>\n",
              "      <td>1.724806e+06</td>\n",
              "      <td>461022.89662</td>\n",
              "      <td>628667.5863</td>\n",
              "      <td>199884.05308</td>\n",
              "      <td>322393.634</td>\n",
              "    </tr>\n",
              "    <tr>\n",
              "      <th>3</th>\n",
              "      <td>1</td>\n",
              "      <td>2/26/2010</td>\n",
              "      <td>1409727.59</td>\n",
              "      <td>0</td>\n",
              "      <td>46.63</td>\n",
              "      <td>2.561</td>\n",
              "      <td>211.319643</td>\n",
              "      <td>8.106</td>\n",
              "      <td>1.508409e+06</td>\n",
              "      <td>403182.09074</td>\n",
              "      <td>549793.7601</td>\n",
              "      <td>174806.22116</td>\n",
              "      <td>281945.518</td>\n",
              "    </tr>\n",
              "    <tr>\n",
              "      <th>4</th>\n",
              "      <td>1</td>\n",
              "      <td>3/5/2010</td>\n",
              "      <td>1554806.68</td>\n",
              "      <td>0</td>\n",
              "      <td>46.50</td>\n",
              "      <td>2.625</td>\n",
              "      <td>211.350143</td>\n",
              "      <td>8.106</td>\n",
              "      <td>1.663643e+06</td>\n",
              "      <td>444674.71048</td>\n",
              "      <td>606374.6052</td>\n",
              "      <td>192796.02832</td>\n",
              "      <td>310961.336</td>\n",
              "    </tr>\n",
              "  </tbody>\n",
              "</table>\n",
              "</div>"
            ],
            "text/plain": [
              "   Store       Date  Weekly_Sales  Holiday_Flag  Temperature  Fuel_Price  \\\n",
              "0      1   2/5/2010    1643690.90             0        42.31       2.572   \n",
              "1      1  2/12/2010    1641957.44             1        38.51       2.548   \n",
              "2      1  2/19/2010    1611968.17             0        39.93       2.514   \n",
              "3      1  2/26/2010    1409727.59             0        46.63       2.561   \n",
              "4      1   3/5/2010    1554806.68             0        46.50       2.625   \n",
              "\n",
              "          CPI  Unemployment  Weekly_Sales_Increased   Labour_Cost  \\\n",
              "0  211.096358         8.106            1.758749e+06  470095.59740   \n",
              "1  211.242170         8.106            1.756894e+06  469599.82784   \n",
              "2  211.289143         8.106            1.724806e+06  461022.89662   \n",
              "3  211.319643         8.106            1.508409e+06  403182.09074   \n",
              "4  211.350143         8.106            1.663643e+06  444674.71048   \n",
              "\n",
              "   Product_Cost  Maintenance_Cost      Profit  \n",
              "0   641039.4510      203817.67160  328738.180  \n",
              "1   640363.4016      203602.72256  328391.488  \n",
              "2   628667.5863      199884.05308  322393.634  \n",
              "3   549793.7601      174806.22116  281945.518  \n",
              "4   606374.6052      192796.02832  310961.336  "
            ]
          },
          "execution_count": 18,
          "metadata": {},
          "output_type": "execute_result"
        }
      ],
      "source": [
        "# Calculate costs as new columns\n",
        "df['Labour_Cost'] = df['Weekly_Sales'] * 0.286\n",
        "df['Product_Cost'] = df['Weekly_Sales'] * 0.39\n",
        "df['Maintenance_Cost'] = df['Weekly_Sales'] * 0.124\n",
        "\n",
        "# Calculate profit as a new column\n",
        "df['Profit'] = df['Weekly_Sales'] - (df['Labour_Cost'] + df['Product_Cost'] + df['Maintenance_Cost'])\n",
        "\n",
        "# Display the updated DataFrame\n",
        "df.head()"
      ]
    },
    {
      "cell_type": "code",
      "execution_count": 19,
      "metadata": {
        "colab": {
          "base_uri": "https://localhost:8080/",
          "height": 226
        },
        "id": "YLa8NtNZYra4",
        "metadata": {},
        "outputId": "2b707ee8-fe45-43d4-ed01-0d929e604c12"
      },
      "outputs": [
        {
          "data": {
            "text/html": [
              "<div>\n",
              "<style scoped>\n",
              "    .dataframe tbody tr th:only-of-type {\n",
              "        vertical-align: middle;\n",
              "    }\n",
              "\n",
              "    .dataframe tbody tr th {\n",
              "        vertical-align: top;\n",
              "    }\n",
              "\n",
              "    .dataframe thead th {\n",
              "        text-align: right;\n",
              "    }\n",
              "</style>\n",
              "<table border=\"1\" class=\"dataframe\">\n",
              "  <thead>\n",
              "    <tr style=\"text-align: right;\">\n",
              "      <th></th>\n",
              "      <th>Store</th>\n",
              "      <th>Date</th>\n",
              "      <th>Weekly_Sales</th>\n",
              "      <th>Holiday_Flag</th>\n",
              "      <th>Temperature</th>\n",
              "      <th>Fuel_Price</th>\n",
              "      <th>CPI</th>\n",
              "      <th>Unemployment</th>\n",
              "      <th>Weekly_Sales_Increased</th>\n",
              "      <th>Labour_Cost</th>\n",
              "      <th>Product_Cost</th>\n",
              "      <th>Maintenance_Cost</th>\n",
              "      <th>Profit</th>\n",
              "      <th>Temperature_Celsius</th>\n",
              "    </tr>\n",
              "  </thead>\n",
              "  <tbody>\n",
              "    <tr>\n",
              "      <th>0</th>\n",
              "      <td>1</td>\n",
              "      <td>2/5/2010</td>\n",
              "      <td>1643690.90</td>\n",
              "      <td>0</td>\n",
              "      <td>42.31</td>\n",
              "      <td>2.572</td>\n",
              "      <td>211.096358</td>\n",
              "      <td>8.106</td>\n",
              "      <td>1.758749e+06</td>\n",
              "      <td>470095.59740</td>\n",
              "      <td>641039.4510</td>\n",
              "      <td>203817.67160</td>\n",
              "      <td>328738.180</td>\n",
              "      <td>5.727778</td>\n",
              "    </tr>\n",
              "    <tr>\n",
              "      <th>1</th>\n",
              "      <td>1</td>\n",
              "      <td>2/12/2010</td>\n",
              "      <td>1641957.44</td>\n",
              "      <td>1</td>\n",
              "      <td>38.51</td>\n",
              "      <td>2.548</td>\n",
              "      <td>211.242170</td>\n",
              "      <td>8.106</td>\n",
              "      <td>1.756894e+06</td>\n",
              "      <td>469599.82784</td>\n",
              "      <td>640363.4016</td>\n",
              "      <td>203602.72256</td>\n",
              "      <td>328391.488</td>\n",
              "      <td>3.616667</td>\n",
              "    </tr>\n",
              "    <tr>\n",
              "      <th>2</th>\n",
              "      <td>1</td>\n",
              "      <td>2/19/2010</td>\n",
              "      <td>1611968.17</td>\n",
              "      <td>0</td>\n",
              "      <td>39.93</td>\n",
              "      <td>2.514</td>\n",
              "      <td>211.289143</td>\n",
              "      <td>8.106</td>\n",
              "      <td>1.724806e+06</td>\n",
              "      <td>461022.89662</td>\n",
              "      <td>628667.5863</td>\n",
              "      <td>199884.05308</td>\n",
              "      <td>322393.634</td>\n",
              "      <td>4.405556</td>\n",
              "    </tr>\n",
              "    <tr>\n",
              "      <th>3</th>\n",
              "      <td>1</td>\n",
              "      <td>2/26/2010</td>\n",
              "      <td>1409727.59</td>\n",
              "      <td>0</td>\n",
              "      <td>46.63</td>\n",
              "      <td>2.561</td>\n",
              "      <td>211.319643</td>\n",
              "      <td>8.106</td>\n",
              "      <td>1.508409e+06</td>\n",
              "      <td>403182.09074</td>\n",
              "      <td>549793.7601</td>\n",
              "      <td>174806.22116</td>\n",
              "      <td>281945.518</td>\n",
              "      <td>8.127778</td>\n",
              "    </tr>\n",
              "    <tr>\n",
              "      <th>4</th>\n",
              "      <td>1</td>\n",
              "      <td>3/5/2010</td>\n",
              "      <td>1554806.68</td>\n",
              "      <td>0</td>\n",
              "      <td>46.50</td>\n",
              "      <td>2.625</td>\n",
              "      <td>211.350143</td>\n",
              "      <td>8.106</td>\n",
              "      <td>1.663643e+06</td>\n",
              "      <td>444674.71048</td>\n",
              "      <td>606374.6052</td>\n",
              "      <td>192796.02832</td>\n",
              "      <td>310961.336</td>\n",
              "      <td>8.055556</td>\n",
              "    </tr>\n",
              "  </tbody>\n",
              "</table>\n",
              "</div>"
            ],
            "text/plain": [
              "   Store       Date  Weekly_Sales  Holiday_Flag  Temperature  Fuel_Price  \\\n",
              "0      1   2/5/2010    1643690.90             0        42.31       2.572   \n",
              "1      1  2/12/2010    1641957.44             1        38.51       2.548   \n",
              "2      1  2/19/2010    1611968.17             0        39.93       2.514   \n",
              "3      1  2/26/2010    1409727.59             0        46.63       2.561   \n",
              "4      1   3/5/2010    1554806.68             0        46.50       2.625   \n",
              "\n",
              "          CPI  Unemployment  Weekly_Sales_Increased   Labour_Cost  \\\n",
              "0  211.096358         8.106            1.758749e+06  470095.59740   \n",
              "1  211.242170         8.106            1.756894e+06  469599.82784   \n",
              "2  211.289143         8.106            1.724806e+06  461022.89662   \n",
              "3  211.319643         8.106            1.508409e+06  403182.09074   \n",
              "4  211.350143         8.106            1.663643e+06  444674.71048   \n",
              "\n",
              "   Product_Cost  Maintenance_Cost      Profit  Temperature_Celsius  \n",
              "0   641039.4510      203817.67160  328738.180             5.727778  \n",
              "1   640363.4016      203602.72256  328391.488             3.616667  \n",
              "2   628667.5863      199884.05308  322393.634             4.405556  \n",
              "3   549793.7601      174806.22116  281945.518             8.127778  \n",
              "4   606374.6052      192796.02832  310961.336             8.055556  "
            ]
          },
          "execution_count": 19,
          "metadata": {},
          "output_type": "execute_result"
        }
      ],
      "source": [
        "# Convert temperatures from Fahrenheit to Celsius and add a new column\n",
        "df['Temperature_Celsius'] = (df['Temperature'] - 32) * 5.0/9.0\n",
        "\n",
        "df.head(5)"
      ]
    },
    {
      "cell_type": "markdown",
      "metadata": {},
      "source": [
        "<strong> Find the store with the lowest temperature</strong>"
      ]
    },
    {
      "cell_type": "code",
      "execution_count": 20,
      "metadata": {
        "colab": {
          "base_uri": "https://localhost:8080/"
        },
        "id": "OYx8BZBMZkVm",
        "metadata": {},
        "outputId": "18e48fea-78b3-468c-e9f2-10b81321317c"
      },
      "outputs": [
        {
          "name": "stdout",
          "output_type": "stream",
          "text": [
            "Store with the coldest day: Store 7 on 2/4/2011 with a temperature of -18.92°C and weekly sales of $558027.77\n",
            "Store with the hottest day: Store 33 on 7/16/2010 with a temperature of 37.86°C and weekly sales of $280937.84\n"
          ]
        }
      ],
      "source": [
        "# Find the store with the lowest temperature\n",
        "coldest_store = df.loc[df['Temperature_Celsius'].idxmin()]\n",
        "coldest_store_info = (coldest_store['Store'], coldest_store['Date'], coldest_store['Temperature_Celsius'])\n",
        "\n",
        "# Find the store with the highest temperature\n",
        "hottest_store = df.loc[df['Temperature_Celsius'].idxmax()]\n",
        "hottest_store_info = (hottest_store['Store'], hottest_store['Date'], hottest_store['Temperature_Celsius'])\n",
        "\n",
        "# Compare the weekly sales of these stores on those days\n",
        "coldest_store_sales = coldest_store['Weekly_Sales']\n",
        "hottest_store_sales = hottest_store['Weekly_Sales']\n",
        "\n",
        "\n",
        "# Print the results\n",
        "print(f\"Store with the coldest day: Store {coldest_store_info[0]} on {coldest_store_info[1]} with a temperature of {coldest_store_info[2]:.2f}°C and weekly sales of ${coldest_store_sales:.2f}\")\n",
        "print(f\"Store with the hottest day: Store {hottest_store_info[0]} on {hottest_store_info[1]} with a temperature of {hottest_store_info[2]:.2f}°C and weekly sales of ${hottest_store_sales:.2f}\")\n"
      ]
    },
    {
      "cell_type": "markdown",
      "metadata": {},
      "source": [
        "<strong>Analyze the impact of weather on sales</strong>"
      ]
    },
    {
      "cell_type": "code",
      "execution_count": 21,
      "metadata": {
        "colab": {
          "base_uri": "https://localhost:8080/"
        },
        "id": "kMgTpZGnapTg",
        "metadata": {},
        "outputId": "593fe6de-0ddd-4550-8565-4a63d03ab13c"
      },
      "outputs": [
        {
          "name": "stdout",
          "output_type": "stream",
          "text": [
            "Average weekly sales across all stores: $1046964.88\n",
            "Sales on the coldest day were -46.70% lower than the average.\n",
            "Sales on the hottest day were -73.17% lower than the average.\n"
          ]
        }
      ],
      "source": [
        "# Analyze the impact of weather on sales\n",
        "average_sales = df['Weekly_Sales'].mean()\n",
        "coldest_store_effect = (coldest_store_sales - average_sales) / average_sales * 100\n",
        "hottest_store_effect = (hottest_store_sales - average_sales) / average_sales * 100\n",
        "\n",
        "print(f\"Average weekly sales across all stores: ${average_sales:.2f}\")\n",
        "print(f\"Sales on the coldest day were {coldest_store_effect:.2f}% {'higher' if coldest_store_effect > 0 else 'lower'} than the average.\")\n",
        "print(f\"Sales on the hottest day were {hottest_store_effect:.2f}% {'higher' if hottest_store_effect > 0 else 'lower'} than the average.\")"
      ]
    },
    {
      "cell_type": "markdown",
      "metadata": {
        "id": "qQJV0C4ecOPZ"
      },
      "source": [
        "### **5. Which store had the highest sales week in 2012?**"
      ]
    },
    {
      "cell_type": "code",
      "execution_count": 22,
      "metadata": {
        "id": "4Pf4W62bcWo6",
        "metadata": {}
      },
      "outputs": [],
      "source": [
        "df['Date'] = pd.to_datetime(df['Date'], format='%m/%d/%Y')"
      ]
    },
    {
      "cell_type": "code",
      "execution_count": 23,
      "metadata": {
        "colab": {
          "base_uri": "https://localhost:8080/"
        },
        "id": "HiZRJyglcd3t",
        "metadata": {},
        "outputId": "7299f021-cfcd-453b-8a33-a83d661f095d"
      },
      "outputs": [
        {
          "name": "stdout",
          "output_type": "stream",
          "text": [
            "Store 20 had the highest sales week in 2012 with sales of $2565259.92 on 2012-04-06.\n"
          ]
        }
      ],
      "source": [
        "# Filter data for the year 2012\n",
        "df_2012 = df[df['Date'].dt.year == 2012]\n",
        "\n",
        "# Find the row with the highest Weekly_Sales in 2012\n",
        "highest_sales_week_2012 = df_2012.loc[df_2012['Weekly_Sales'].idxmax()]\n",
        "highest_sales_store_2012 = highest_sales_week_2012['Store']\n",
        "highest_sales_amount_2012 = highest_sales_week_2012['Weekly_Sales']\n",
        "highest_sales_date_2012 = highest_sales_week_2012['Date']\n",
        "\n",
        "print(f\"Store {highest_sales_store_2012} had the highest sales week in 2012 with sales of ${highest_sales_amount_2012:.2f} on {highest_sales_date_2012.date()}.\")\n"
      ]
    },
    {
      "cell_type": "markdown",
      "metadata": {
        "id": "MEPwLBQxdS7f"
      },
      "source": [
        "**6. Count the number of stores that made above $1,000,000 in weekly sales when fule price were about 3.50**"
      ]
    },
    {
      "cell_type": "code",
      "execution_count": 24,
      "metadata": {
        "colab": {
          "base_uri": "https://localhost:8080/"
        },
        "id": "742agQubdtm5",
        "metadata": {},
        "outputId": "5f584f5d-4d2b-495d-af67-0e29f9348058"
      },
      "outputs": [
        {
          "name": "stdout",
          "output_type": "stream",
          "text": [
            "27 stores made above $1,000,000 in weekly sales when fuel prices were above $3.50.\n"
          ]
        }
      ],
      "source": [
        "# Filter data where Fuel_Price is above $3.50\n",
        "high_fuel_price_df = df[df['Fuel_Price'] > 3.50]\n",
        "\n",
        "# Count unique stores with Weekly_Sales above $1,000,000\n",
        "high_sales_stores_count = high_fuel_price_df[high_fuel_price_df['Weekly_Sales'] > 1000000]['Store'].nunique()\n",
        "\n",
        "print(f\"{high_sales_stores_count} stores made above $1,000,000 in weekly sales when fuel prices were above $3.50.\")\n"
      ]
    },
    {
      "cell_type": "markdown",
      "metadata": {
        "id": "UURWW5xcd9EY"
      },
      "source": [
        "**7.Calculate total sales for each store during Christmas week in 2012**"
      ]
    },
    {
      "cell_type": "code",
      "execution_count": null,
      "metadata": {},
      "outputs": [],
      "source": [
        "# Convert the 'Date' column to datetime format\n",
        "df['Date'] = pd.to_datetime(df['Date'])"
      ]
    },
    {
      "cell_type": "code",
      "execution_count": 26,
      "metadata": {
        "colab": {
          "base_uri": "https://localhost:8080/"
        },
        "id": "x51yrMkhd8au",
        "metadata": {},
        "outputId": "54323e57-a3d1-4880-dc26-6c96f3ba9ec5"
      },
      "outputs": [
        {
          "name": "stdout",
          "output_type": "stream",
          "text": [
            "Series([], Name: Weekly_Sales, dtype: float64)\n"
          ]
        }
      ],
      "source": [
        "# Filter for Christmas week in 2012 (assuming Christmas week is 2012-12-21 to 2012-12-28)\n",
        "christmas_week_2012 = df[(df['Date'] >= '2012-12-21') & (df['Date'] <= '2012-12-28')]\n",
        "\n",
        "# Group by 'Store' and sum the 'Weekly_Sales'\n",
        "christmas_sales_2012 = christmas_week_2012.groupby('Store')['Weekly_Sales'].sum()\n",
        "\n",
        "print(christmas_sales_2012)"
      ]
    },
    {
      "cell_type": "markdown",
      "metadata": {},
      "source": [
        "<strong>How many weeks had a holiday in 2011?</strong>"
      ]
    },
    {
      "cell_type": "code",
      "execution_count": 27,
      "metadata": {
        "metadata": {}
      },
      "outputs": [
        {
          "name": "stdout",
          "output_type": "stream",
          "text": [
            "Number of weeks with a holiday in 2011: 180\n"
          ]
        }
      ],
      "source": [
        "df['Date'] = pd.to_datetime(df['Date'])\n",
        "\n",
        "# Filter for the year 2011\n",
        "df_2011 = df[df['Date'].dt.year == 2011]\n",
        "\n",
        "# Count the number of weeks with a holiday\n",
        "holiday_weeks_2011 = df_2011[df_2011['Holiday_Flag'] == 1].shape[0]\n",
        "\n",
        "\n",
        "print(f\"Number of weeks with a holiday in 2011: {holiday_weeks_2011}\")"
      ]
    },
    {
      "cell_type": "markdown",
      "metadata": {},
      "source": [
        "<strong>In which week was unemployment the highest in 2012?</strong>"
      ]
    },
    {
      "cell_type": "code",
      "execution_count": 29,
      "metadata": {
        "metadata": {}
      },
      "outputs": [
        {
          "name": "stdout",
          "output_type": "stream",
          "text": [
            "Week with the highest unemployment in 2012: 2012-01-06\n"
          ]
        },
        {
          "data": {
            "text/plain": [
              "Store                                      12\n",
              "Date                      2012-01-06 00:00:00\n",
              "Weekly_Sales                        945823.65\n",
              "Holiday_Flag                                0\n",
              "Temperature                             50.43\n",
              "Fuel_Price                              3.599\n",
              "CPI                                130.157516\n",
              "Unemployment                           12.187\n",
              "Weekly_Sales_Increased           1012031.3055\n",
              "Labour_Cost                       270505.5639\n",
              "Product_Cost                      368871.2235\n",
              "Maintenance_Cost                  117282.1326\n",
              "Profit                              189164.73\n",
              "Temperature_Celsius                 10.238889\n",
              "Name: 1673, dtype: object"
            ]
          },
          "execution_count": 29,
          "metadata": {},
          "output_type": "execute_result"
        }
      ],
      "source": [
        "\n",
        "\n",
        "df_2012 = df[df['Date'].dt.year == 2012]\n",
        "\n",
        "# Find the week with the highest unemployment rate\n",
        "max_unemployment_week = df_2012.loc[df_2012['Unemployment'].idxmax()]\n",
        "\n",
        "\n",
        "print(f\"Week with the highest unemployment in 2012: {max_unemployment_week['Date'].strftime('%Y-%m-%d')}\")\n",
        "\n",
        "\n",
        "max_unemployment_week"
      ]
    },
    {
      "cell_type": "markdown",
      "metadata": {},
      "source": [
        "<strong>Save our work</strong>"
      ]
    },
    {
      "cell_type": "code",
      "execution_count": 30,
      "metadata": {
        "metadata": {}
      },
      "outputs": [],
      "source": [
        "df.reset_index(drop=True)\n",
        "df.to_csv('modified.csv', index=False)"
      ]
    }
  ],
  "metadata": {
    "colab": {
      "include_colab_link": true,
      "provenance": []
    },
    "kernelspec": {
      "display_name": "Python 3",
      "name": "python3"
    },
    "language_info": {
      "codemirror_mode": {
        "name": "ipython",
        "version": 3
      },
      "file_extension": ".py",
      "mimetype": "text/x-python",
      "name": "python",
      "nbconvert_exporter": "python",
      "pygments_lexer": "ipython3",
      "version": "3.10.12"
    }
  },
  "nbformat": 4,
  "nbformat_minor": 0
}
